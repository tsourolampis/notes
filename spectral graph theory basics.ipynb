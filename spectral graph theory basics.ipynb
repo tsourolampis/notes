{
 "cells": [
  {
   "cell_type": "code",
   "execution_count": 12,
   "metadata": {
    "collapsed": true
   },
   "outputs": [],
   "source": [
    "import numpy as np\n",
    "import matplotlib.pyplot as plt\n",
    "%matplotlib inline\n",
    "import math\n",
    "from math import pow\n",
    "from collections import defaultdict"
   ]
  },
  {
   "cell_type": "code",
   "execution_count": 2,
   "metadata": {
    "collapsed": true
   },
   "outputs": [],
   "source": [
    "def flip(s,i):\n",
    "    ''' Flips the i-th bit of string s'''\n",
    "    ell = list(s)\n",
    "    if(s[i]=='0'):\n",
    "        ell[i]='1'\n",
    "    else:\n",
    "        ell[i]='0'\n",
    "    return ''.join(ell)\n",
    "\n",
    "def hypercube(k):\n",
    "    ''' The hypercube graph in k dimensions has n=2^k nodes''' \n",
    "    binnodes = [] \n",
    "    nodes = range(int(math.pow(2,k)))\n",
    "    edges = defaultdict(set)\n",
    "    binedges = defaultdict(set)\n",
    "    representation='#0'+str(k+2)+'b' #bin(i) does not use the same number of bits for each i\n",
    "    for i in nodes:\n",
    "        s = format(i, representation)\n",
    "        u = s[2:] #node binary string id \n",
    "        binnodes.append(u)\n",
    "        for dim in range(k): \n",
    "            binedges[u].add(flip(u,dim))\n",
    "            edges[i].add(int(flip(u,dim),2))\n",
    "    return binnodes, binedges, nodes, edges  "
   ]
  },
  {
   "cell_type": "code",
   "execution_count": 3,
   "metadata": {
    "collapsed": true
   },
   "outputs": [],
   "source": [
    "def cutsize(graph,S):\n",
    "    edgescut = 0 \n",
    "    for u in S:\n",
    "        for v in graph[u]: \n",
    "            if v not in S: \n",
    "                edgescut+=1\n",
    "    return edgescut\n",
    "\n",
    "def degree_sequence(graph): \n",
    "    degrees = defaultdict(int)\n",
    "    for u in graph.keys():\n",
    "        degrees[u] = len(graph[u])\n",
    "    return degrees\n",
    "        \n",
    "def volume(graph,S):\n",
    "    volS = 0 \n",
    "    volSbar = 0 \n",
    "    degrees = degree_sequence(graph)\n",
    "    for u in graph.keys(): \n",
    "        if u in S:\n",
    "            volS +=  degrees[u]\n",
    "        else:\n",
    "            volSbar +=degrees[u]\n",
    "    return volS, volSbar \n",
    "\n",
    "\n",
    "def conductance(graph,S):\n",
    "    volS, volSbar = volume(graph,S)\n",
    "    edgescut = cutsize(graph,S)\n",
    "    phiS = edgescut/np.minimum(volS,volSbar)\n",
    "    return phiS, edgescut, volS, volSbar"
   ]
  },
  {
   "cell_type": "markdown",
   "metadata": {},
   "source": [
    "The \"dimension cut\" gives conductance $\\frac{1}{k}$ where $k$ is the dimension of the hypercube. This is illustrated below:"
   ]
  },
  {
   "cell_type": "code",
   "execution_count": 4,
   "metadata": {},
   "outputs": [
    {
     "data": {
      "text/plain": [
       "[<matplotlib.lines.Line2D at 0x1060cc128>]"
      ]
     },
     "execution_count": 4,
     "metadata": {},
     "output_type": "execute_result"
    },
    {
     "data": {
      "image/png": "[encoded data removed]",
      "text/plain": [
       "<Figure size 432x288 with 1 Axes>"
      ]
     },
     "metadata": {},
     "output_type": "display_data"
    }
   ],
   "source": [
    "phi_values_1d = [] \n",
    "for dimensions in range(1,16): \n",
    "    binnodes, binedges, nodes, edges   = hypercube(dimensions)\n",
    "    one_dim_cut = set(range(int(math.pow(2,dimensions-1)))) #all nodes with first bit 0\n",
    "    phiS, edgescut, volS, volSbar = conductance(edges,one_dim_cut)\n",
    "    phi_values_1d.append(phiS)\n",
    "    \n",
    "    \n",
    "plt.plot(1./np.arange(1,16,1),'-o')\n",
    "plt.plot(phi_values_1d,'--x')"
   ]
  },
  {
   "cell_type": "markdown",
   "metadata": {},
   "source": [
    "**Claim**: The one dimensional cut of $H_d$ has conductance $\\frac{1}{d}$. \n",
    "\n",
    "The proof is straight-forward. It is good to think of a d-dimensional hypercube $H_d$ as two copies of $H_{d-1}$ connected, with $2^{d-1}$ extra edges, one for each pair of  $(u,\\bar{u})$ where $u,\\bar{u}$ are \"isomorphic\" copies in the first and second $(d-1)$-hypercube respectively. \n",
    "\n",
    "** Proof **: Let $(S,\\bar{S})$ the a 1d cut. Then $e(S,\\bar{S}) = 2^{d-1}$, and $vol(S)=vol(\\bar{S}) = 2^{d-1} \\cdot d$. "
   ]
  },
  {
   "cell_type": "markdown",
   "metadata": {},
   "source": [
    "## Fundamental fact about Laplacian\n"
   ]
  },
  {
   "cell_type": "markdown",
   "metadata": {},
   "source": [
    "The number of connected components of a graph is equal to the multiplicity of the zero eigenvalue of the Laplacian."
   ]
  },
  {
   "cell_type": "code",
   "execution_count": 26,
   "metadata": {
    "collapsed": true
   },
   "outputs": [],
   "source": [
    "import networkx as nx"
   ]
  },
  {
   "cell_type": "code",
   "execution_count": 27,
   "metadata": {},
   "outputs": [],
   "source": [
    "g = nx.Graph() "
   ]
  },
  {
   "cell_type": "code",
   "execution_count": 28,
   "metadata": {
    "collapsed": true
   },
   "outputs": [],
   "source": [
    "g.add_edge(1,2)\n",
    "g.add_edge(1,3)\n",
    "g.add_edge(2,3)\n",
    "g.add_edge(4,5)"
   ]
  },
  {
   "cell_type": "code",
   "execution_count": 29,
   "metadata": {},
   "outputs": [
    {
     "name": "stdout",
     "output_type": "stream",
     "text": [
      "  (0, 0)\t2\n",
      "  (0, 1)\t-1\n",
      "  (0, 2)\t-1\n",
      "  (1, 0)\t-1\n",
      "  (1, 1)\t2\n",
      "  (1, 2)\t-1\n",
      "  (2, 0)\t-1\n",
      "  (2, 1)\t-1\n",
      "  (2, 2)\t2\n",
      "  (3, 3)\t1\n",
      "  (3, 4)\t-1\n",
      "  (4, 3)\t-1\n",
      "  (4, 4)\t1\n"
     ]
    }
   ],
   "source": [
    "L = nx.laplacian_matrix(g)\n",
    "print(L)"
   ]
  },
  {
   "cell_type": "code",
   "execution_count": 30,
   "metadata": {},
   "outputs": [
    {
     "name": "stdout",
     "output_type": "stream",
     "text": [
      "Number of connected components is  2\n",
      "Connected component 1 corresponding to eigenvalue  -1.1102230246251565e-16\n",
      "Connected component 2 corresponding to eigenvalue  0.0\n"
     ]
    }
   ],
   "source": [
    "eigen = filter(lambda x: np.abs(x)<0.000001, nx.laplacian_spectrum(g))\n",
    "zero_eigenvalues = list(eigen)\n",
    "print(\"Number of connected components is \",len(zero_eigenvalues))\n",
    "for i in range(len(zero_eigenvalues)): \n",
    "    print('Connected component', (i+1), 'corresponding to eigenvalue ',zero_eigenvalues[i] ) \n",
    "    #What we observe is numerical precision issue\n",
    "    \n"
   ]
  },
  {
   "cell_type": "markdown",
   "metadata": {},
   "source": [
    "**Exercise:** The multiplicity of the zero eigenvalue of the graph Laplacian is equal to the number of connected components"
   ]
  },
  {
   "cell_type": "markdown",
   "metadata": {},
   "source": [
    "# Eigenvalues of some basic"
   ]
  }
 ],
 "metadata": {
  "kernelspec": {
   "display_name": "Python 3",
   "language": "python",
   "name": "python3"
  },
  "language_info": {
   "codemirror_mode": {
    "name": "ipython",
    "version": 3
   },
   "file_extension": ".py",
   "mimetype": "text/x-python",
   "name": "python",
   "nbconvert_exporter": "python",
   "pygments_lexer": "ipython3",
   "version": "3.5.2"
  }
 },
 "nbformat": 4,
 "nbformat_minor": 2
}
